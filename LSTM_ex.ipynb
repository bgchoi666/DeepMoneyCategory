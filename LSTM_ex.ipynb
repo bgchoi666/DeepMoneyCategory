{
 "cells": [
  {
   "cell_type": "code",
   "execution_count": 2,
   "metadata": {},
   "outputs": [
    {
     "name": "stdout",
     "output_type": "stream",
     "text": [
      "The autoreload extension is already loaded. To reload it, use:\n",
      "  %reload_ext autoreload\n"
     ]
    }
   ],
   "source": [
    "%load_ext autoreload\n",
    "%autoreload 2"
   ]
  },
  {
   "cell_type": "code",
   "execution_count": null,
   "metadata": {},
   "outputs": [],
   "source": [
    "\n",
    "    "
   ]
  },
  {
   "cell_type": "code",
   "execution_count": null,
   "metadata": {},
   "outputs": [],
   "source": [
    "import models\n",
    "import learn\n",
    "#from FnLearn import Postprocessing"
   ]
  },
  {
   "cell_type": "code",
   "execution_count": null,
   "metadata": {},
   "outputs": [],
   "source": [
    "from tensorflow import keras\n",
    "import tensorflow as tf\n",
    "import numpy as np\n",
    "import matplotlib.pyplot as plt\n",
    "config = tf.ConfigProto()\n",
    "config.gpu_options.allow_growth = True\n",
    "\n",
    "tf.enable_eager_execution(config = config)"
   ]
  },
  {
   "cell_type": "code",
   "execution_count": null,
   "metadata": {},
   "outputs": [],
   "source": [
    "item_names = ['삼성전자','한국전력','SK텔레콤','니케이 225','S&P 500','코스피 200']\n",
    "#price_col_name = '수정주가(원)'\n",
    "price_col_names = ['수정주가(원)','수정주가(원)','수정주가(원)','종가지수(포인트)','종가지수(포인트)','종가지수(포인트)']\n",
    "model_name = 'LSTM'\n",
    "channel = False"
   ]
  },
  {
   "cell_type": "code",
   "execution_count": null,
   "metadata": {},
   "outputs": [],
   "source": [
    "#HyperParameter\n",
    "target_types = ['trend_ratio','log_ratio']\n",
    "fill_na_li = ['interpolation','zero','median']\n",
    "future_days = [20,40,60]\n",
    "n_timesteps = [20,40,60,80,100,120]\n",
    "time_interval = 1\n",
    "n_units = [300,500,800]\n",
    "batch_size = 32\n",
    "learning_rate = 0.0005\n",
    "n_iteration = 10000"
   ]
  },
  {
   "cell_type": "code",
   "execution_count": null,
   "metadata": {},
   "outputs": [],
   "source": [
    "for item_name, price_col_name in zip(item_names,price_col_names):\n",
    "    for target_type in target_types:\n",
    "        for fill_na in fill_na_li:\n",
    "            for n_unit in n_units:\n",
    "                for future_day in future_days :\n",
    "                    for n_timestep in n_timesteps:\n",
    "                        train_input, train_output, test_input, test_output,test_price = FnLearn.create_learning_data(item_name, n_timestep, future_day,time_interval, price_col_name, target_type, fill_na, channel)\n",
    "                        n_input = train_input.shape[2]\n",
    "\n",
    "                        model = models.LSTM(n_timestep,n_input,n_unit)\n",
    "                        #keras.utils.plot_model(model, model_name+'_model_with_shape_info.png', show_shapes=True)\n",
    "\n",
    "                        optimizer = tf.train.AdamOptimizer(learning_rate=learning_rate)\n",
    "\n",
    "                        for iteration in range(n_iteration):\n",
    "                            batch_input, batch_output = learn.next_random_batch(train_x, train_x, batch_size)\n",
    "\n",
    "                            gradients = models.gradient(model, 'mean_square', batch_input, batch_output)\n",
    "                            optimizer.apply_gradients(zip(gradients, model.variables))\n",
    "\n",
    "                            if iteration %100 == 0:\n",
    "                                loss = models.loss_function(model, batch_input, batch_output)\n",
    "                                train_MSE = models.evaluate(model, batch_input, batch_output)\n",
    "                                test_MSE =  models.evaluate(model, test_input[:100], test_output[:100])\n",
    "\n",
    "                                print('iteration :', iteration, ' loss =', loss.numpy(), ' train MSE =', train_MSE.numpy(),' test MSE =', test_MSE.numpy())\n",
    "\n",
    "                        prediction = FnLearn.predict_batch_test(model, test_input,100)\n",
    "\n",
    "                        result = Postprocessing(prediction,test_output, n_timestep,future_day)\n",
    "                        result.extract_last_output()\n",
    "                        result.ratio_to_price(test_price,target_type)\n",
    "                        result.result_df()\n",
    "                        result.calculation_rise_fall()\n",
    "                        result.evaluation()\n",
    "                        result.save_result(model_name,item_name,n_unit,target_type,fill_na)\n",
    "                        result.save_visualization()\n",
    "                        result.save_model_architecture(model,model_name)\n",
    "                        result.save_model(model)"
   ]
  }
 ],
 "metadata": {
  "kernelspec": {
   "display_name": "tf1",
   "language": "python",
   "name": "tf1"
  },
  "language_info": {
   "codemirror_mode": {
    "name": "ipython",
    "version": 3
   },
   "file_extension": ".py",
   "mimetype": "text/x-python",
   "name": "python",
   "nbconvert_exporter": "python",
   "pygments_lexer": "ipython3",
   "version": "3.7.4"
  }
 },
 "nbformat": 4,
 "nbformat_minor": 2
}
